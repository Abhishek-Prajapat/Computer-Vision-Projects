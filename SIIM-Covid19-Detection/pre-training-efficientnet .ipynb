{
 "cells": [
  {
   "cell_type": "markdown",
   "id": "d99da766",
   "metadata": {
    "papermill": {
     "duration": 0.020952,
     "end_time": "2021-07-10T22:28:53.380967",
     "exception": false,
     "start_time": "2021-07-10T22:28:53.360015",
     "status": "completed"
    },
    "tags": []
   },
   "source": [
    "# Importing Libraries"
   ]
  },
  {
   "cell_type": "code",
   "execution_count": 1,
   "id": "b423395f",
   "metadata": {
    "execution": {
     "iopub.execute_input": "2021-07-10T22:28:53.446623Z",
     "iopub.status.busy": "2021-07-10T22:28:53.433615Z",
     "iopub.status.idle": "2021-07-10T22:29:10.702124Z",
     "shell.execute_reply": "2021-07-10T22:29:10.701134Z"
    },
    "papermill": {
     "duration": 17.301125,
     "end_time": "2021-07-10T22:29:10.702316",
     "exception": false,
     "start_time": "2021-07-10T22:28:53.401191",
     "status": "completed"
    },
    "tags": []
   },
   "outputs": [
    {
     "name": "stdout",
     "output_type": "stream",
     "text": [
      "\u001b[33mWARNING: Running pip as root will break packages and permissions. You should install packages reliably by using venv: https://pip.pypa.io/warnings/venv\u001b[0m\r\n",
      "\u001b[33mWARNING: Running pip as root will break packages and permissions. You should install packages reliably by using venv: https://pip.pypa.io/warnings/venv\u001b[0m\r\n"
     ]
    }
   ],
   "source": [
    "!pip install efficientnet -q\n",
    "!pip install wandb --upgrade -q"
   ]
  },
  {
   "cell_type": "code",
   "execution_count": 2,
   "id": "6595769a",
   "metadata": {
    "execution": {
     "iopub.execute_input": "2021-07-10T22:29:10.747434Z",
     "iopub.status.busy": "2021-07-10T22:29:10.746773Z",
     "iopub.status.idle": "2021-07-10T22:29:19.104804Z",
     "shell.execute_reply": "2021-07-10T22:29:19.104114Z"
    },
    "papermill": {
     "duration": 8.381837,
     "end_time": "2021-07-10T22:29:19.104978",
     "exception": false,
     "start_time": "2021-07-10T22:29:10.723141",
     "status": "completed"
    },
    "tags": []
   },
   "outputs": [],
   "source": [
    "import os\n",
    "import glob\n",
    "import wandb\n",
    "import numpy as np\n",
    "import pandas as pd\n",
    "\n",
    "import tensorflow as tf\n",
    "import efficientnet.tfkeras as efn\n",
    "\n",
    "from kaggle_datasets import KaggleDatasets\n",
    "from sklearn.model_selection import train_test_split"
   ]
  },
  {
   "cell_type": "markdown",
   "id": "fa91fd31",
   "metadata": {
    "papermill": {
     "duration": 0.020107,
     "end_time": "2021-07-10T22:29:19.147334",
     "exception": false,
     "start_time": "2021-07-10T22:29:19.127227",
     "status": "completed"
    },
    "tags": []
   },
   "source": [
    "# Configuration"
   ]
  },
  {
   "cell_type": "code",
   "execution_count": 3,
   "id": "f06af46a",
   "metadata": {
    "execution": {
     "iopub.execute_input": "2021-07-10T22:29:19.196376Z",
     "iopub.status.busy": "2021-07-10T22:29:19.195646Z",
     "iopub.status.idle": "2021-07-10T22:29:19.199242Z",
     "shell.execute_reply": "2021-07-10T22:29:19.198651Z"
    },
    "papermill": {
     "duration": 0.031457,
     "end_time": "2021-07-10T22:29:19.199405",
     "exception": false,
     "start_time": "2021-07-10T22:29:19.167948",
     "status": "completed"
    },
    "tags": []
   },
   "outputs": [],
   "source": [
    "def auto_select_accelerator():\n",
    "    try:\n",
    "        tpu = tf.distribute.cluster_resolver.TPUClusterResolver()\n",
    "        tf.config.experimental_connect_to_cluster(tpu)\n",
    "        tf.tpu.experimental.initialize_tpu_system(tpu)\n",
    "        strategy = tf.distribute.experimental.TPUStrategy(tpu)\n",
    "        print(\"Running on TPU:\", tpu.master())\n",
    "    except ValueError:\n",
    "        strategy = tf.distribute.get_strategy()\n",
    "    print(f\"Running on {strategy.num_replicas_in_sync} replicas\")\n",
    "\n",
    "    return strategy"
   ]
  },
  {
   "cell_type": "code",
   "execution_count": 4,
   "id": "382a6a9c",
   "metadata": {
    "execution": {
     "iopub.execute_input": "2021-07-10T22:29:19.246793Z",
     "iopub.status.busy": "2021-07-10T22:29:19.246052Z",
     "iopub.status.idle": "2021-07-10T22:29:25.534614Z",
     "shell.execute_reply": "2021-07-10T22:29:25.533216Z"
    },
    "papermill": {
     "duration": 6.314422,
     "end_time": "2021-07-10T22:29:25.534850",
     "exception": false,
     "start_time": "2021-07-10T22:29:19.220428",
     "status": "completed"
    },
    "tags": []
   },
   "outputs": [
    {
     "name": "stdout",
     "output_type": "stream",
     "text": [
      "Running on TPU: grpc://10.0.0.2:8470\n",
      "Running on 8 replicas\n"
     ]
    }
   ],
   "source": [
    "COMPETITION_NAME = \"vinbigdata-chest-xray-resized-png-1024x1024\"\n",
    "strategy = auto_select_accelerator()\n",
    "BATCH_SIZE = strategy.num_replicas_in_sync * 16\n",
    "GCS_DS_PATH = KaggleDatasets().get_gcs_path(COMPETITION_NAME)"
   ]
  },
  {
   "cell_type": "code",
   "execution_count": 5,
   "id": "33f100ee",
   "metadata": {
    "execution": {
     "iopub.execute_input": "2021-07-10T22:29:25.603582Z",
     "iopub.status.busy": "2021-07-10T22:29:25.602292Z",
     "iopub.status.idle": "2021-07-10T22:29:25.606299Z",
     "shell.execute_reply": "2021-07-10T22:29:25.605556Z"
    },
    "papermill": {
     "duration": 0.039912,
     "end_time": "2021-07-10T22:29:25.606479",
     "exception": false,
     "start_time": "2021-07-10T22:29:25.566567",
     "status": "completed"
    },
    "tags": []
   },
   "outputs": [],
   "source": [
    "class Config:\n",
    "    IMG_SIZE = 512\n",
    "    NUM_REPLICAS_IN_SYNC = strategy.num_replicas_in_sync\n",
    "    BATCH_SIZE = 16 * NUM_REPLICAS_IN_SYNC\n",
    "    GDC_DS_PATH = GCS_DS_PATH\n",
    "    NUM_CLASSES = 15\n",
    "    LR = 0.001 * NUM_REPLICAS_IN_SYNC\n",
    "    EPOCHS = 10"
   ]
  },
  {
   "cell_type": "code",
   "execution_count": 6,
   "id": "815f7681",
   "metadata": {
    "execution": {
     "iopub.execute_input": "2021-07-10T22:29:25.675661Z",
     "iopub.status.busy": "2021-07-10T22:29:25.674442Z",
     "iopub.status.idle": "2021-07-10T22:29:25.678619Z",
     "shell.execute_reply": "2021-07-10T22:29:25.679265Z"
    },
    "papermill": {
     "duration": 0.038053,
     "end_time": "2021-07-10T22:29:25.679493",
     "exception": false,
     "start_time": "2021-07-10T22:29:25.641440",
     "status": "completed"
    },
    "tags": []
   },
   "outputs": [],
   "source": [
    "config = Config()"
   ]
  },
  {
   "cell_type": "markdown",
   "id": "4c057991",
   "metadata": {
    "papermill": {
     "duration": 0.022482,
     "end_time": "2021-07-10T22:29:25.723914",
     "exception": false,
     "start_time": "2021-07-10T22:29:25.701432",
     "status": "completed"
    },
    "tags": []
   },
   "source": [
    "# Loading data"
   ]
  },
  {
   "cell_type": "code",
   "execution_count": 7,
   "id": "76e9f4f9",
   "metadata": {
    "execution": {
     "iopub.execute_input": "2021-07-10T22:29:25.778837Z",
     "iopub.status.busy": "2021-07-10T22:29:25.777789Z",
     "iopub.status.idle": "2021-07-10T22:29:26.308358Z",
     "shell.execute_reply": "2021-07-10T22:29:26.309180Z"
    },
    "papermill": {
     "duration": 0.558915,
     "end_time": "2021-07-10T22:29:26.309452",
     "exception": false,
     "start_time": "2021-07-10T22:29:25.750537",
     "status": "completed"
    },
    "tags": []
   },
   "outputs": [
    {
     "data": {
      "text/html": [
       "<div>\n",
       "<style scoped>\n",
       "    .dataframe tbody tr th:only-of-type {\n",
       "        vertical-align: middle;\n",
       "    }\n",
       "\n",
       "    .dataframe tbody tr th {\n",
       "        vertical-align: top;\n",
       "    }\n",
       "\n",
       "    .dataframe thead th {\n",
       "        text-align: right;\n",
       "    }\n",
       "</style>\n",
       "<table border=\"1\" class=\"dataframe\">\n",
       "  <thead>\n",
       "    <tr style=\"text-align: right;\">\n",
       "      <th></th>\n",
       "      <th>image_paths</th>\n",
       "      <th>image_id</th>\n",
       "    </tr>\n",
       "  </thead>\n",
       "  <tbody>\n",
       "    <tr>\n",
       "      <th>0</th>\n",
       "      <td>../input/vinbigdata-chest-xray-abnormalities-d...</td>\n",
       "      <td>4d390e07733ba06e5ff07412f09c0a92</td>\n",
       "    </tr>\n",
       "    <tr>\n",
       "      <th>1</th>\n",
       "      <td>../input/vinbigdata-chest-xray-abnormalities-d...</td>\n",
       "      <td>289f69f6462af4933308c275d07060f0</td>\n",
       "    </tr>\n",
       "  </tbody>\n",
       "</table>\n",
       "</div>"
      ],
      "text/plain": [
       "                                         image_paths  \\\n",
       "0  ../input/vinbigdata-chest-xray-abnormalities-d...   \n",
       "1  ../input/vinbigdata-chest-xray-abnormalities-d...   \n",
       "\n",
       "                           image_id  \n",
       "0  4d390e07733ba06e5ff07412f09c0a92  \n",
       "1  289f69f6462af4933308c275d07060f0  "
      ]
     },
     "execution_count": 7,
     "metadata": {},
     "output_type": "execute_result"
    }
   ],
   "source": [
    "image_paths = glob.glob('../input/vinbigdata-chest-xray-abnormalities-detection/train/*')\n",
    "temp_df = pd.DataFrame()\n",
    "temp_df['image_paths'] = image_paths\n",
    "temp_df['image_id'] = temp_df['image_paths'].map(lambda x: x.split('/')[-1].split('.')[0])\n",
    "temp_df.head(2)"
   ]
  },
  {
   "cell_type": "code",
   "execution_count": 8,
   "id": "c8af6474",
   "metadata": {
    "execution": {
     "iopub.execute_input": "2021-07-10T22:29:26.364938Z",
     "iopub.status.busy": "2021-07-10T22:29:26.364284Z",
     "iopub.status.idle": "2021-07-10T22:29:26.651323Z",
     "shell.execute_reply": "2021-07-10T22:29:26.650803Z"
    },
    "papermill": {
     "duration": 0.313714,
     "end_time": "2021-07-10T22:29:26.651476",
     "exception": false,
     "start_time": "2021-07-10T22:29:26.337762",
     "status": "completed"
    },
    "tags": []
   },
   "outputs": [
    {
     "data": {
      "text/html": [
       "<div>\n",
       "<style scoped>\n",
       "    .dataframe tbody tr th:only-of-type {\n",
       "        vertical-align: middle;\n",
       "    }\n",
       "\n",
       "    .dataframe tbody tr th {\n",
       "        vertical-align: top;\n",
       "    }\n",
       "\n",
       "    .dataframe thead th {\n",
       "        text-align: right;\n",
       "    }\n",
       "</style>\n",
       "<table border=\"1\" class=\"dataframe\">\n",
       "  <thead>\n",
       "    <tr style=\"text-align: right;\">\n",
       "      <th></th>\n",
       "      <th>image_id</th>\n",
       "      <th>class_name</th>\n",
       "      <th>class_id</th>\n",
       "      <th>rad_id</th>\n",
       "      <th>x_min</th>\n",
       "      <th>y_min</th>\n",
       "      <th>x_max</th>\n",
       "      <th>y_max</th>\n",
       "      <th>image_paths</th>\n",
       "    </tr>\n",
       "  </thead>\n",
       "  <tbody>\n",
       "    <tr>\n",
       "      <th>0</th>\n",
       "      <td>50a418190bc3fb1ef1633bf9678929b3</td>\n",
       "      <td>No finding</td>\n",
       "      <td>14</td>\n",
       "      <td>R11</td>\n",
       "      <td>NaN</td>\n",
       "      <td>NaN</td>\n",
       "      <td>NaN</td>\n",
       "      <td>NaN</td>\n",
       "      <td>../input/vinbigdata-chest-xray-abnormalities-d...</td>\n",
       "    </tr>\n",
       "    <tr>\n",
       "      <th>1</th>\n",
       "      <td>50a418190bc3fb1ef1633bf9678929b3</td>\n",
       "      <td>No finding</td>\n",
       "      <td>14</td>\n",
       "      <td>R15</td>\n",
       "      <td>NaN</td>\n",
       "      <td>NaN</td>\n",
       "      <td>NaN</td>\n",
       "      <td>NaN</td>\n",
       "      <td>../input/vinbigdata-chest-xray-abnormalities-d...</td>\n",
       "    </tr>\n",
       "  </tbody>\n",
       "</table>\n",
       "</div>"
      ],
      "text/plain": [
       "                           image_id  class_name  class_id rad_id  x_min  \\\n",
       "0  50a418190bc3fb1ef1633bf9678929b3  No finding        14    R11    NaN   \n",
       "1  50a418190bc3fb1ef1633bf9678929b3  No finding        14    R15    NaN   \n",
       "\n",
       "   y_min  x_max  y_max                                        image_paths  \n",
       "0    NaN    NaN    NaN  ../input/vinbigdata-chest-xray-abnormalities-d...  \n",
       "1    NaN    NaN    NaN  ../input/vinbigdata-chest-xray-abnormalities-d...  "
      ]
     },
     "execution_count": 8,
     "metadata": {},
     "output_type": "execute_result"
    }
   ],
   "source": [
    "df = pd.read_csv('../input/vinbigdata-chest-xray-abnormalities-detection/train.csv')\n",
    "df = pd.merge(df, temp_df, on='image_id')\n",
    "df.head(2)"
   ]
  },
  {
   "cell_type": "code",
   "execution_count": 9,
   "id": "9d984b27",
   "metadata": {
    "execution": {
     "iopub.execute_input": "2021-07-10T22:29:26.723766Z",
     "iopub.status.busy": "2021-07-10T22:29:26.722878Z",
     "iopub.status.idle": "2021-07-10T22:29:26.740135Z",
     "shell.execute_reply": "2021-07-10T22:29:26.740721Z"
    },
    "papermill": {
     "duration": 0.067204,
     "end_time": "2021-07-10T22:29:26.740899",
     "exception": false,
     "start_time": "2021-07-10T22:29:26.673695",
     "status": "completed"
    },
    "tags": []
   },
   "outputs": [
    {
     "data": {
      "text/plain": [
       "image_id           0\n",
       "class_name         0\n",
       "class_id           0\n",
       "rad_id             0\n",
       "x_min          31818\n",
       "y_min          31818\n",
       "x_max          31818\n",
       "y_max          31818\n",
       "image_paths        0\n",
       "dtype: int64"
      ]
     },
     "execution_count": 9,
     "metadata": {},
     "output_type": "execute_result"
    }
   ],
   "source": [
    "np.sum(df.isna())"
   ]
  },
  {
   "cell_type": "code",
   "execution_count": 10,
   "id": "de3e7362",
   "metadata": {
    "execution": {
     "iopub.execute_input": "2021-07-10T22:29:26.790433Z",
     "iopub.status.busy": "2021-07-10T22:29:26.789468Z",
     "iopub.status.idle": "2021-07-10T22:29:26.867426Z",
     "shell.execute_reply": "2021-07-10T22:29:26.866694Z"
    },
    "papermill": {
     "duration": 0.103521,
     "end_time": "2021-07-10T22:29:26.867594",
     "exception": false,
     "start_time": "2021-07-10T22:29:26.764073",
     "status": "completed"
    },
    "tags": []
   },
   "outputs": [
    {
     "data": {
      "text/plain": [
       "{14: 'No finding',\n",
       " 3: 'Cardiomegaly',\n",
       " 10: 'Pleural effusion',\n",
       " 11: 'Pleural thickening',\n",
       " 0: 'Aortic enlargement',\n",
       " 13: 'Pulmonary fibrosis',\n",
       " 5: 'ILD',\n",
       " 8: 'Nodule/Mass',\n",
       " 9: 'Other lesion',\n",
       " 7: 'Lung Opacity',\n",
       " 6: 'Infiltration',\n",
       " 4: 'Consolidation',\n",
       " 2: 'Calcification',\n",
       " 1: 'Atelectasis',\n",
       " 12: 'Pneumothorax'}"
      ]
     },
     "execution_count": 10,
     "metadata": {},
     "output_type": "execute_result"
    }
   ],
   "source": [
    "class_names = {}\n",
    "for i in df.class_id.unique():\n",
    "    name = df[df['class_id'] == i].class_name.values[0]\n",
    "    class_names[i] = name\n",
    "    \n",
    "class_names"
   ]
  },
  {
   "cell_type": "code",
   "execution_count": 11,
   "id": "e19313f2",
   "metadata": {
    "execution": {
     "iopub.execute_input": "2021-07-10T22:29:26.923806Z",
     "iopub.status.busy": "2021-07-10T22:29:26.922466Z",
     "iopub.status.idle": "2021-07-10T22:29:26.995239Z",
     "shell.execute_reply": "2021-07-10T22:29:26.994348Z"
    },
    "papermill": {
     "duration": 0.103267,
     "end_time": "2021-07-10T22:29:26.995441",
     "exception": false,
     "start_time": "2021-07-10T22:29:26.892174",
     "status": "completed"
    },
    "tags": []
   },
   "outputs": [],
   "source": [
    "df_train, df_valid = train_test_split(df, test_size=0.1, random_state=1234, stratify=df['class_id'])"
   ]
  },
  {
   "cell_type": "markdown",
   "id": "865e19ba",
   "metadata": {
    "papermill": {
     "duration": 0.024428,
     "end_time": "2021-07-10T22:29:27.044012",
     "exception": false,
     "start_time": "2021-07-10T22:29:27.019584",
     "status": "completed"
    },
    "tags": []
   },
   "source": [
    "# Creating dataset"
   ]
  },
  {
   "cell_type": "code",
   "execution_count": 12,
   "id": "794ce2b1",
   "metadata": {
    "execution": {
     "iopub.execute_input": "2021-07-10T22:29:27.108345Z",
     "iopub.status.busy": "2021-07-10T22:29:27.102717Z",
     "iopub.status.idle": "2021-07-10T22:29:27.115023Z",
     "shell.execute_reply": "2021-07-10T22:29:27.114230Z"
    },
    "papermill": {
     "duration": 0.045845,
     "end_time": "2021-07-10T22:29:27.115195",
     "exception": false,
     "start_time": "2021-07-10T22:29:27.069350",
     "status": "completed"
    },
    "tags": []
   },
   "outputs": [],
   "source": [
    "def build_decoder(with_labels=True, target_size=(256, 256), ext='jpg'):\n",
    "    def decode(path):\n",
    "        file_bytes = tf.io.read_file(path)\n",
    "\n",
    "        if ext == 'png':\n",
    "            img = tf.image.decode_png(file_bytes, channels=3)\n",
    "        elif ext in ['jpg', 'jpeg']:\n",
    "            img = tf.image.decode_jpeg(file_bytes, channels=3)\n",
    "        else:\n",
    "            raise ValueError(\"Image extension not supported\")\n",
    "        img = tf.cast(img, tf.float32) / 255.0\n",
    "        img = tf.image.resize(img, target_size)\n",
    "\n",
    "        return img\n",
    "    \n",
    "    def decode_with_labels(path, label):\n",
    "        return decode(path), label\n",
    "    \n",
    "    return decode_with_labels if with_labels else decode\n",
    "\n",
    "\n",
    "def build_augmenter(with_labels=True):\n",
    "    def augment(img):\n",
    "        img = tf.image.random_flip_left_right(img)\n",
    "        img = tf.image.random_flip_up_down(img)\n",
    "        return img\n",
    "    \n",
    "    def augment_with_labels(img, label):\n",
    "        return augment(img), label\n",
    "    \n",
    "    return augment_with_labels if with_labels else augment\n",
    "\n",
    "\n",
    "def build_dataset(paths, labels=None, bsize=128, cache=True,\n",
    "                  decode_fn=None, augment_fn=None,\n",
    "                  augment=True, repeat=True, shuffle=1024, \n",
    "                  cache_dir=\"\"):\n",
    "    \n",
    "    ignore_order = tf.data.Options()\n",
    "    ignore_order.experimental_deterministic = False\n",
    "    \n",
    "    if cache_dir != \"\" and cache is True:\n",
    "        os.makedirs(cache_dir, exist_ok=True)\n",
    "    \n",
    "    if decode_fn is None:\n",
    "        decode_fn = build_decoder(labels is not None)\n",
    "    \n",
    "    if augment_fn is None:\n",
    "        augment_fn = build_augmenter(labels is not None)\n",
    "    \n",
    "    AUTO = tf.data.experimental.AUTOTUNE\n",
    "    slices = paths if labels is None else (paths, labels)\n",
    "    \n",
    "    dset = tf.data.Dataset.from_tensor_slices(slices)\n",
    "    dset = dset.with_options(ignore_order)\n",
    "    dset = dset.map(decode_fn, num_parallel_calls=AUTO)\n",
    "    dset = dset.cache(cache_dir) if cache else dset\n",
    "    dset = dset.map(augment_fn, num_parallel_calls=AUTO) if augment else dset\n",
    "    dset = dset.repeat() if repeat else dset\n",
    "    dset = dset.shuffle(shuffle) if shuffle else dset\n",
    "    dset = dset.batch(bsize).prefetch(AUTO)\n",
    "    \n",
    "    return dset"
   ]
  },
  {
   "cell_type": "code",
   "execution_count": 13,
   "id": "89a61db0",
   "metadata": {
    "execution": {
     "iopub.execute_input": "2021-07-10T22:29:27.171281Z",
     "iopub.status.busy": "2021-07-10T22:29:27.170415Z",
     "iopub.status.idle": "2021-07-10T22:29:27.174860Z",
     "shell.execute_reply": "2021-07-10T22:29:27.174174Z"
    },
    "papermill": {
     "duration": 0.03574,
     "end_time": "2021-07-10T22:29:27.175020",
     "exception": false,
     "start_time": "2021-07-10T22:29:27.139280",
     "status": "completed"
    },
    "tags": []
   },
   "outputs": [
    {
     "data": {
      "text/plain": [
       "'gs://kds-810d06acb6c0cc88e4248e5f8942bad22e7ba031bf4d46ffd6a3bf1f'"
      ]
     },
     "execution_count": 13,
     "metadata": {},
     "output_type": "execute_result"
    }
   ],
   "source": [
    "GCS_DS_PATH"
   ]
  },
  {
   "cell_type": "code",
   "execution_count": 14,
   "id": "35c6d333",
   "metadata": {
    "execution": {
     "iopub.execute_input": "2021-07-10T22:29:27.268812Z",
     "iopub.status.busy": "2021-07-10T22:29:27.268128Z",
     "iopub.status.idle": "2021-07-10T22:29:27.271694Z",
     "shell.execute_reply": "2021-07-10T22:29:27.271205Z"
    },
    "papermill": {
     "duration": 0.072483,
     "end_time": "2021-07-10T22:29:27.271860",
     "exception": false,
     "start_time": "2021-07-10T22:29:27.199377",
     "status": "completed"
    },
    "tags": []
   },
   "outputs": [],
   "source": [
    "train_paths = GCS_DS_PATH + '/train/' + df_train['image_id'] + '.png'\n",
    "valid_paths = GCS_DS_PATH + '/train/' + df_valid['image_id'] + '.png'\n",
    "\n",
    "train_labels = df_train['class_id'].values\n",
    "valid_labels = df_valid['class_id'].values"
   ]
  },
  {
   "cell_type": "code",
   "execution_count": 15,
   "id": "1eee7443",
   "metadata": {
    "execution": {
     "iopub.execute_input": "2021-07-10T22:29:27.327512Z",
     "iopub.status.busy": "2021-07-10T22:29:27.326844Z",
     "iopub.status.idle": "2021-07-10T22:29:27.328941Z",
     "shell.execute_reply": "2021-07-10T22:29:27.329411Z"
    },
    "papermill": {
     "duration": 0.032999,
     "end_time": "2021-07-10T22:29:27.329590",
     "exception": false,
     "start_time": "2021-07-10T22:29:27.296591",
     "status": "completed"
    },
    "tags": []
   },
   "outputs": [],
   "source": [
    "train_decoder = build_decoder(with_labels=True, target_size=(config.IMG_SIZE, config.IMG_SIZE), ext='png')\n",
    "valid_decoder = build_decoder(with_labels=False, target_size=(config.IMG_SIZE, config.IMG_SIZE), ext='.png')"
   ]
  },
  {
   "cell_type": "code",
   "execution_count": 16,
   "id": "818ef973",
   "metadata": {
    "execution": {
     "iopub.execute_input": "2021-07-10T22:29:27.421647Z",
     "iopub.status.busy": "2021-07-10T22:29:27.420977Z",
     "iopub.status.idle": "2021-07-10T22:29:27.729263Z",
     "shell.execute_reply": "2021-07-10T22:29:27.729771Z"
    },
    "papermill": {
     "duration": 0.376018,
     "end_time": "2021-07-10T22:29:27.729995",
     "exception": false,
     "start_time": "2021-07-10T22:29:27.353977",
     "status": "completed"
    },
    "tags": []
   },
   "outputs": [],
   "source": [
    "train_dataset = build_dataset(train_paths,\n",
    "                              train_labels,\n",
    "                              bsize = config.BATCH_SIZE,\n",
    "                              decode_fn = train_decoder)"
   ]
  },
  {
   "cell_type": "code",
   "execution_count": 17,
   "id": "c3e65312",
   "metadata": {
    "execution": {
     "iopub.execute_input": "2021-07-10T22:29:27.784594Z",
     "iopub.status.busy": "2021-07-10T22:29:27.783539Z",
     "iopub.status.idle": "2021-07-10T22:29:27.812550Z",
     "shell.execute_reply": "2021-07-10T22:29:27.813089Z"
    },
    "papermill": {
     "duration": 0.058691,
     "end_time": "2021-07-10T22:29:27.813332",
     "exception": false,
     "start_time": "2021-07-10T22:29:27.754641",
     "status": "completed"
    },
    "tags": []
   },
   "outputs": [],
   "source": [
    "valid_dataset = build_dataset(valid_paths,\n",
    "                             valid_labels,\n",
    "                             bsize = config.BATCH_SIZE,\n",
    "                             decode_fn = train_decoder,\n",
    "                             repeat = False, \n",
    "                             shuffle = False, \n",
    "                             augment = False)"
   ]
  },
  {
   "cell_type": "markdown",
   "id": "8b01c558",
   "metadata": {
    "papermill": {
     "duration": 0.026926,
     "end_time": "2021-07-10T22:29:27.866379",
     "exception": false,
     "start_time": "2021-07-10T22:29:27.839453",
     "status": "completed"
    },
    "tags": []
   },
   "source": [
    "# Training the model\n",
    "\n",
    "First we will traing only the last layer and then later we will finetune the whole model."
   ]
  },
  {
   "cell_type": "code",
   "execution_count": 18,
   "id": "d3cca878",
   "metadata": {
    "execution": {
     "iopub.execute_input": "2021-07-10T22:29:27.923501Z",
     "iopub.status.busy": "2021-07-10T22:29:27.922452Z",
     "iopub.status.idle": "2021-07-10T22:30:17.025342Z",
     "shell.execute_reply": "2021-07-10T22:30:17.026133Z"
    },
    "papermill": {
     "duration": 49.132767,
     "end_time": "2021-07-10T22:30:17.026372",
     "exception": false,
     "start_time": "2021-07-10T22:29:27.893605",
     "status": "completed"
    },
    "tags": []
   },
   "outputs": [
    {
     "name": "stdout",
     "output_type": "stream",
     "text": [
      "Downloading data from https://github.com/Callidior/keras-applications/releases/download/efficientnet/efficientnet-b7_weights_tf_dim_ordering_tf_kernels_autoaugment_notop.h5\n",
      "258441216/258434480 [==============================] - 6s 0us/step\n",
      "Model: \"sequential\"\n",
      "_________________________________________________________________\n",
      "Layer (type)                 Output Shape              Param #   \n",
      "=================================================================\n",
      "efficientnet-b7 (Functional) (None, 16, 16, 2560)      64097680  \n",
      "_________________________________________________________________\n",
      "global_average_pooling2d (Gl (None, 2560)              0         \n",
      "_________________________________________________________________\n",
      "dense (Dense)                (None, 15)                38415     \n",
      "=================================================================\n",
      "Total params: 64,136,095\n",
      "Trainable params: 63,825,375\n",
      "Non-trainable params: 310,720\n",
      "_________________________________________________________________\n"
     ]
    }
   ],
   "source": [
    "with strategy.scope():\n",
    "    \n",
    "    base_model = efn.EfficientNetB7(input_shape = (config.IMG_SIZE, config.IMG_SIZE, 3),\n",
    "                                    weights = 'imagenet',\n",
    "                                    include_top = False)\n",
    "    \n",
    "    model = tf.keras.Sequential([\n",
    "        base_model,\n",
    "        tf.keras.layers.GlobalAveragePooling2D(),\n",
    "        tf.keras.layers.Dense(config.NUM_CLASSES, activation='softmax')\n",
    "    ])\n",
    "        \n",
    "    model.compile(\n",
    "        optimizer = tf.keras.optimizers.Adam(),\n",
    "        loss = tf.keras.losses.SparseCategoricalCrossentropy(),\n",
    "        metrics = [tf.keras.metrics.SparseCategoricalAccuracy()],\n",
    "        steps_per_execution = 32)\n",
    "\n",
    "    model.summary()"
   ]
  },
  {
   "cell_type": "code",
   "execution_count": 19,
   "id": "e05c5c79",
   "metadata": {
    "execution": {
     "iopub.execute_input": "2021-07-10T22:30:17.126485Z",
     "iopub.status.busy": "2021-07-10T22:30:17.125825Z",
     "iopub.status.idle": "2021-07-10T22:30:17.130543Z",
     "shell.execute_reply": "2021-07-10T22:30:17.131154Z"
    },
    "papermill": {
     "duration": 0.056465,
     "end_time": "2021-07-10T22:30:17.131370",
     "exception": false,
     "start_time": "2021-07-10T22:30:17.074905",
     "status": "completed"
    },
    "tags": []
   },
   "outputs": [],
   "source": [
    "model_ckpt     = tf.keras.callbacks.ModelCheckpoint('./efficientNetPretrained.h5', save_best_only=True)\n",
    "lr_scheduler   = tf.keras.callbacks.ReduceLROnPlateau(patience=1, min_delta=0.05)\n",
    "early_stopping = tf.keras.callbacks.EarlyStopping(min_delta=0.01)"
   ]
  },
  {
   "cell_type": "code",
   "execution_count": 20,
   "id": "6881bab7",
   "metadata": {
    "execution": {
     "iopub.execute_input": "2021-07-10T22:30:17.230524Z",
     "iopub.status.busy": "2021-07-10T22:30:17.229900Z",
     "iopub.status.idle": "2021-07-10T23:13:58.745585Z",
     "shell.execute_reply": "2021-07-10T23:13:58.744995Z"
    },
    "papermill": {
     "duration": 2621.566318,
     "end_time": "2021-07-10T23:13:58.745773",
     "exception": false,
     "start_time": "2021-07-10T22:30:17.179455",
     "status": "completed"
    },
    "tags": []
   },
   "outputs": [
    {
     "name": "stdout",
     "output_type": "stream",
     "text": [
      "Epoch 1/10\n",
      "477/477 [==============================] - 1877s 4s/step - loss: 1.3962 - sparse_categorical_accuracy: 0.5582 - val_loss: 1.2549 - val_sparse_categorical_accuracy: 0.5948\n",
      "Epoch 2/10\n",
      "477/477 [==============================] - 361s 757ms/step - loss: 1.0931 - sparse_categorical_accuracy: 0.6278 - val_loss: 1.0593 - val_sparse_categorical_accuracy: 0.6456\n",
      "Epoch 3/10\n",
      "477/477 [==============================] - 361s 757ms/step - loss: 1.0314 - sparse_categorical_accuracy: 0.6426 - val_loss: 1.0710 - val_sparse_categorical_accuracy: 0.6337\n"
     ]
    }
   ],
   "source": [
    "history = model.fit(x = train_dataset,\n",
    "                    validation_data = valid_dataset,\n",
    "                    epochs = config.EPOCHS,\n",
    "                    steps_per_epoch = len(df_train)//config.BATCH_SIZE,\n",
    "                    callbacks = [model_ckpt, lr_scheduler, early_stopping])"
   ]
  },
  {
   "cell_type": "markdown",
   "id": "fb15d3b4",
   "metadata": {
    "papermill": {
     "duration": 0.062113,
     "end_time": "2021-07-10T23:13:58.870954",
     "exception": false,
     "start_time": "2021-07-10T23:13:58.808841",
     "status": "completed"
    },
    "tags": []
   },
   "source": [
    "# Saving the model"
   ]
  },
  {
   "cell_type": "code",
   "execution_count": 21,
   "id": "73698621",
   "metadata": {
    "execution": {
     "iopub.execute_input": "2021-07-10T23:13:59.001139Z",
     "iopub.status.busy": "2021-07-10T23:13:59.000446Z",
     "iopub.status.idle": "2021-07-10T23:13:59.006528Z",
     "shell.execute_reply": "2021-07-10T23:13:59.007090Z"
    },
    "papermill": {
     "duration": 0.073326,
     "end_time": "2021-07-10T23:13:59.007259",
     "exception": false,
     "start_time": "2021-07-10T23:13:58.933933",
     "status": "completed"
    },
    "tags": []
   },
   "outputs": [
    {
     "data": {
      "text/plain": [
       "[<tensorflow.python.keras.engine.functional.Functional at 0x7f3bf2c23e90>,\n",
       " <tensorflow.python.keras.layers.pooling.GlobalAveragePooling2D at 0x7f3bf2ce7710>]"
      ]
     },
     "execution_count": 21,
     "metadata": {},
     "output_type": "execute_result"
    }
   ],
   "source": [
    "featurizer = model.layers[:-1]\n",
    "featurizer"
   ]
  },
  {
   "cell_type": "code",
   "execution_count": 22,
   "id": "770dc368",
   "metadata": {
    "execution": {
     "iopub.execute_input": "2021-07-10T23:13:59.137550Z",
     "iopub.status.busy": "2021-07-10T23:13:59.136911Z",
     "iopub.status.idle": "2021-07-10T23:14:03.456382Z",
     "shell.execute_reply": "2021-07-10T23:14:03.456918Z"
    },
    "papermill": {
     "duration": 4.385988,
     "end_time": "2021-07-10T23:14:03.457091",
     "exception": false,
     "start_time": "2021-07-10T23:13:59.071103",
     "status": "completed"
    },
    "tags": []
   },
   "outputs": [],
   "source": [
    "temp_model = tf.keras.Sequential([\n",
    "    featurizer[0],\n",
    "    featurizer[1]\n",
    "])"
   ]
  },
  {
   "cell_type": "code",
   "execution_count": 23,
   "id": "f970ef3b",
   "metadata": {
    "execution": {
     "iopub.execute_input": "2021-07-10T23:14:03.586628Z",
     "iopub.status.busy": "2021-07-10T23:14:03.586036Z",
     "iopub.status.idle": "2021-07-10T23:14:03.647870Z",
     "shell.execute_reply": "2021-07-10T23:14:03.648368Z"
    },
    "papermill": {
     "duration": 0.128196,
     "end_time": "2021-07-10T23:14:03.648537",
     "exception": false,
     "start_time": "2021-07-10T23:14:03.520341",
     "status": "completed"
    },
    "tags": []
   },
   "outputs": [
    {
     "name": "stdout",
     "output_type": "stream",
     "text": [
      "Model: \"sequential_1\"\n",
      "_________________________________________________________________\n",
      "Layer (type)                 Output Shape              Param #   \n",
      "=================================================================\n",
      "efficientnet-b7 (Functional) (None, 16, 16, 2560)      64097680  \n",
      "_________________________________________________________________\n",
      "global_average_pooling2d (Gl (None, 2560)              0         \n",
      "=================================================================\n",
      "Total params: 64,097,680\n",
      "Trainable params: 63,786,960\n",
      "Non-trainable params: 310,720\n",
      "_________________________________________________________________\n"
     ]
    }
   ],
   "source": [
    "temp_model.summary()"
   ]
  },
  {
   "cell_type": "code",
   "execution_count": 24,
   "id": "261e2e91",
   "metadata": {
    "execution": {
     "iopub.execute_input": "2021-07-10T23:14:03.852495Z",
     "iopub.status.busy": "2021-07-10T23:14:03.816325Z",
     "iopub.status.idle": "2021-07-10T23:14:09.118311Z",
     "shell.execute_reply": "2021-07-10T23:14:09.118877Z"
    },
    "papermill": {
     "duration": 5.407158,
     "end_time": "2021-07-10T23:14:09.119051",
     "exception": false,
     "start_time": "2021-07-10T23:14:03.711893",
     "status": "completed"
    },
    "tags": []
   },
   "outputs": [],
   "source": [
    "temp_model.save('./feature_extractor.h5')"
   ]
  }
 ],
 "metadata": {
  "kernelspec": {
   "display_name": "Python 3",
   "language": "python",
   "name": "python3"
  },
  "language_info": {
   "codemirror_mode": {
    "name": "ipython",
    "version": 3
   },
   "file_extension": ".py",
   "mimetype": "text/x-python",
   "name": "python",
   "nbconvert_exporter": "python",
   "pygments_lexer": "ipython3",
   "version": "3.7.10"
  },
  "papermill": {
   "default_parameters": {},
   "duration": 2727.822671,
   "end_time": "2021-07-10T23:14:12.199021",
   "environment_variables": {},
   "exception": null,
   "input_path": "__notebook__.ipynb",
   "output_path": "__notebook__.ipynb",
   "parameters": {},
   "start_time": "2021-07-10T22:28:44.376350",
   "version": "2.3.3"
  }
 },
 "nbformat": 4,
 "nbformat_minor": 5
}
